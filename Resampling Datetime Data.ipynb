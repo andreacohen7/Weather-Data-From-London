{
 "cells": [
  {
   "cell_type": "markdown",
   "id": "94ba0245",
   "metadata": {},
   "source": [
    "# Weather Data from London\n",
    "- Andrea Cohen\n",
    "-03.27.23"
   ]
  },
  {
   "cell_type": "markdown",
   "id": "48a39642",
   "metadata": {},
   "source": [
    "## Data\n",
    "\n",
    "- Source\n",
    "    - https://www.kaggle.com/datasets/emmanuelfwerr/london-weather-data\n",
    "- Context\n",
    "    - The dataset was created by reconciling measurements from requests of individual weather attributes provided by the European Climate Assessment (ECA). The measurements of this particular dataset were recorded by a weather station near Heathrow airport in London, UK.\n",
    "- Content\n",
    "    1. date - recorded date of measurement - (int)\n",
    "    2. cloud_cover - cloud cover measurement in oktas - (float)\n",
    "    3. sunshine - sunshine measurement in hours (hrs) - (float)\n",
    "    4. global_radiation - irradiance measurement in Watt per square meter (W/m2) - (float)\n",
    "    5. max_temp - maximum temperature recorded in degrees Celsius (°C) - (float)\n",
    "    6. mean_temp - mean temperature in degrees Celsius (°C) - (float)\n",
    "    7. min_temp - minimum temperature recorded in degrees Celsius (°C) - (float)\n",
    "    8. precipitation - precipitation measurement in millimeters (mm) - (float)\n",
    "    9. pressure - pressure measurement in Pascals (Pa) - (float)\n",
    "    10. snow_depth - snow depth measurement in centimeters (cm) - (float)"
   ]
  },
  {
   "cell_type": "code",
   "execution_count": null,
   "id": "9613f328",
   "metadata": {},
   "outputs": [],
   "source": []
  }
 ],
 "metadata": {
  "kernelspec": {
   "display_name": "Python (dojo-env)",
   "language": "python",
   "name": "dojo-env"
  },
  "language_info": {
   "codemirror_mode": {
    "name": "ipython",
    "version": 3
   },
   "file_extension": ".py",
   "mimetype": "text/x-python",
   "name": "python",
   "nbconvert_exporter": "python",
   "pygments_lexer": "ipython3",
   "version": "3.9.15"
  },
  "toc": {
   "base_numbering": 1,
   "nav_menu": {},
   "number_sections": false,
   "sideBar": true,
   "skip_h1_title": false,
   "title_cell": "Table of Contents",
   "title_sidebar": "Contents",
   "toc_cell": false,
   "toc_position": {},
   "toc_section_display": true,
   "toc_window_display": false
  }
 },
 "nbformat": 4,
 "nbformat_minor": 5
}
